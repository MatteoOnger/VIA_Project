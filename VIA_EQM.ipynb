{
  "nbformat": 4,
  "nbformat_minor": 0,
  "metadata": {
    "colab": {
      "provenance": [],
      "authorship_tag": "ABX9TyNIz87RwzauihAWykwzFtdo",
      "include_colab_link": true
    },
    "kernelspec": {
      "name": "python3",
      "display_name": "Python 3"
    },
    "language_info": {
      "name": "python"
    }
  },
  "cells": [
    {
      "cell_type": "markdown",
      "metadata": {
        "id": "view-in-github",
        "colab_type": "text"
      },
      "source": [
        "<a href=\"https://colab.research.google.com/github/MatteoOnger/VIA_Project/blob/main/VIA_EQM.ipynb\" target=\"_parent\"><img src=\"https://colab.research.google.com/assets/colab-badge.svg\" alt=\"Open In Colab\"/></a>"
      ]
    },
    {
      "cell_type": "markdown",
      "source": [
        "# **VIA Project: EqMotion Meets Assembly101 - Equivariant Motion Modeling for Manipulation Tasks**\n",
        "\n",
        "*   **Author:** Matteo Onger\n",
        "*   **Date:** September 2025"
      ],
      "metadata": {
        "id": "RXZ0JMTRK7uX"
      }
    },
    {
      "cell_type": "markdown",
      "source": [
        "**Documentation**:\n",
        "*   Dataset: [Assembly101](https://assembly-101.github.io/)\n",
        "*   Model: [EqMotion](https://github.com/MediaBrain-SJTU/EqMotion)\n",
        "\n",
        "**Notes**:\n",
        "*   For faster execution, please use a GPU-equipped runtime."
      ],
      "metadata": {
        "id": "OBmiEbHo7PMf"
      }
    },
    {
      "cell_type": "code",
      "source": [
        "from google.colab import userdata"
      ],
      "metadata": {
        "id": "_pa3ERj3TFzw"
      },
      "execution_count": null,
      "outputs": []
    },
    {
      "cell_type": "code",
      "source": [
        "# set the credentials and paths\n",
        "local_path = '/content'\n",
        "remote_path = '/datasets/AssemblyHands/assembly101-download-scripts/data_our'\n",
        "\n",
        "host = userdata.get('phuse_server')     # server domain must be SET in SECRETS\n",
        "user = userdata.get('phuse_user')       # server user must be SET in SECRETS\n",
        "psw = userdata.get('phuse_psw')         # user password must be SET in SECRETS\n",
        "\n",
        "user_at_host = user + '@' + host"
      ],
      "metadata": {
        "id": "t_KWef6aTiOS"
      },
      "execution_count": null,
      "outputs": []
    },
    {
      "cell_type": "code",
      "source": [
        "# install sshpass\n",
        "!sudo apt update\n",
        "!sudo apt install sshpass\n",
        "\n",
        "# create dire\n",
        "!mkdir -p $remote_path\n",
        "!mkdir -p ~/.ssh\n",
        "\n",
        "# add server to known hosts\n",
        "!ssh-keyscan $host >> ~/.ssh/known_hosts\n",
        "\n",
        "# download the data\n",
        "!sshpass -p $psw sftp -oBatchMode=no -b - $user_at_host <<< \"get -r {remote_path} {local_path}\""
      ],
      "metadata": {
        "id": "jQiF7Q3dVJ_2"
      },
      "execution_count": null,
      "outputs": []
    }
  ]
}