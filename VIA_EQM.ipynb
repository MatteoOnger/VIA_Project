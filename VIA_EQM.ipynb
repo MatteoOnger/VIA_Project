{
  "nbformat": 4,
  "nbformat_minor": 0,
  "metadata": {
    "colab": {
      "provenance": [],
      "machine_shape": "hm",
      "gpuType": "L4",
      "collapsed_sections": [
        "waaVEmK0q1Xp",
        "uHkCj88Rq41f"
      ],
      "authorship_tag": "ABX9TyOXcIjnJM28anfSbfDVRF4R",
      "include_colab_link": true
    },
    "kernelspec": {
      "name": "python3",
      "display_name": "Python 3"
    },
    "language_info": {
      "name": "python"
    },
    "accelerator": "GPU"
  },
  "cells": [
    {
      "cell_type": "markdown",
      "metadata": {
        "id": "view-in-github",
        "colab_type": "text"
      },
      "source": [
        "<a href=\"https://colab.research.google.com/github/MatteoOnger/VIA_Project/blob/main/VIA_EQM.ipynb\" target=\"_parent\"><img src=\"https://colab.research.google.com/assets/colab-badge.svg\" alt=\"Open In Colab\"/></a>"
      ]
    },
    {
      "cell_type": "markdown",
      "source": [
        "# **VIA Project: EqMotion Meets Assembly101 - Equivariant Motion Modeling for Manipulation Tasks**\n",
        "\n",
        "*   **Author:** Matteo Onger\n",
        "*   **Date:** September 2025"
      ],
      "metadata": {
        "id": "RXZ0JMTRK7uX"
      }
    },
    {
      "cell_type": "markdown",
      "source": [
        "**Documentation**:\n",
        "*   Dataset: [Assembly101](https://assembly-101.github.io/)\n",
        "*   Model: [EqMotion](https://github.com/MediaBrain-SJTU/EqMotion)\n",
        "*   Training Framework: [4DHands](https://github.com/FrancescoAgnelli3/4D_hands)\n",
        "\n",
        "**Notes**:\n",
        "*   For faster execution, please use a GPU-equipped runtime."
      ],
      "metadata": {
        "id": "OBmiEbHo7PMf"
      }
    },
    {
      "cell_type": "markdown",
      "source": [
        "## Clone the GitHub repositories"
      ],
      "metadata": {
        "id": "oUEiLBNLs-Yt"
      }
    },
    {
      "cell_type": "code",
      "source": [
        "# check PyTorch and CUDA version\n",
        "import torch\n",
        "print(torch.__version__)"
      ],
      "metadata": {
        "id": "urAEctWrAltc"
      },
      "execution_count": null,
      "outputs": []
    },
    {
      "cell_type": "code",
      "source": [
        "# install dependencies\n",
        "!pip install torchcde\n",
        "!pip install torch-dct\n",
        "!pip install torch-geometric\n",
        "\n",
        "!pip install torch-scatter -f https://data.pyg.org/whl/torch-2.6.0+cu124.html       # set PyTorch and CUDA version\n",
        "!pip install torch-sparse -f https://data.pyg.org/whl/torch-2.6.0+cu124.html        # set PyTorch and CUDA version\n",
        "\n",
        "!pip install git+https://github.com/TorchSpatiotemporal/tsl.git"
      ],
      "metadata": {
        "id": "KNo-JNk4s-O_"
      },
      "execution_count": null,
      "outputs": []
    },
    {
      "cell_type": "code",
      "source": [
        "# clone training framework\n",
        "!git clone https://github.com/FrancescoAgnelli3/4D_hands -b feat-eqmotion"
      ],
      "metadata": {
        "id": "aCbadYBu8pUE"
      },
      "execution_count": null,
      "outputs": []
    },
    {
      "cell_type": "code",
      "source": [
        "# clone original EqMotion repository\n",
        "!git clone https://github.com/MediaBrain-SJTU/EqMotion.git"
      ],
      "metadata": {
        "id": "RLGdM06Z5pO3"
      },
      "execution_count": null,
      "outputs": []
    },
    {
      "cell_type": "markdown",
      "source": [
        "## Load the dataset"
      ],
      "metadata": {
        "id": "1XaJHIqHqx3I"
      }
    },
    {
      "cell_type": "markdown",
      "source": [
        "### From SFTP server"
      ],
      "metadata": {
        "id": "waaVEmK0q1Xp"
      }
    },
    {
      "cell_type": "code",
      "source": [
        "from google.colab import userdata"
      ],
      "metadata": {
        "id": "_pa3ERj3TFzw"
      },
      "execution_count": null,
      "outputs": []
    },
    {
      "cell_type": "code",
      "source": [
        "# set the credentials and paths\n",
        "local_path = '/content'\n",
        "data_folder = 'data_our'\n",
        "remote_path = '/datasets/AssemblyHands/assembly101-download-scripts/data_our'\n",
        "\n",
        "host = userdata.get('phuse_server')     # server domain must be SET in SECRETS\n",
        "user = userdata.get('phuse_user')       # server user must be SET in SECRETS\n",
        "psw = userdata.get('phuse_psw')         # user password must be SET in SECRETS\n",
        "\n",
        "user_at_host = user + '@' + host\n",
        "data_path = local_path + '/' + data_folder"
      ],
      "metadata": {
        "id": "t_KWef6aTiOS"
      },
      "execution_count": null,
      "outputs": []
    },
    {
      "cell_type": "code",
      "source": [
        "# install sshpass\n",
        "!sudo apt update\n",
        "!sudo apt install sshpass\n",
        "\n",
        "# create directories\n",
        "!mkdir -p $remote_path\n",
        "!mkdir -p ~/.ssh\n",
        "\n",
        "# add server to known hosts\n",
        "!ssh-keyscan $host >> ~/.ssh/known_hosts\n",
        "\n",
        "# download the data\n",
        "!sshpass -p $psw sftp -oBatchMode=no -b - $user_at_host <<< \"get -r {remote_path} {local_path}\""
      ],
      "metadata": {
        "id": "jQiF7Q3dVJ_2"
      },
      "execution_count": null,
      "outputs": []
    },
    {
      "cell_type": "markdown",
      "source": [
        "### From drive"
      ],
      "metadata": {
        "id": "uHkCj88Rq41f"
      }
    },
    {
      "cell_type": "code",
      "source": [
        "from google.colab import drive"
      ],
      "metadata": {
        "id": "1NCe2s8Or_aH"
      },
      "execution_count": null,
      "outputs": []
    },
    {
      "cell_type": "code",
      "source": [
        "# mount Google Drive\n",
        "drive.mount('/content/drive')\n",
        "\n",
        "# set the paths\n",
        "data_path = '/content/drive/MyDrive/Colab Notebooks/UNIMI/VIA Project/data_our'"
      ],
      "metadata": {
        "id": "Gmy1wyl_qBuX",
        "colab": {
          "base_uri": "https://localhost:8080/"
        },
        "outputId": "3dbc3e0a-5e86-4811-f902-9a15ccc1c228"
      },
      "execution_count": null,
      "outputs": [
        {
          "output_type": "stream",
          "name": "stdout",
          "text": [
            "Mounted at /content/drive\n"
          ]
        }
      ]
    },
    {
      "cell_type": "markdown",
      "source": [
        "### Mount the dataset"
      ],
      "metadata": {
        "id": "qAOSC2vADsjt"
      }
    },
    {
      "cell_type": "code",
      "source": [
        "import os"
      ],
      "metadata": {
        "id": "DguYs0xaD8zh"
      },
      "execution_count": null,
      "outputs": []
    },
    {
      "cell_type": "code",
      "source": [
        "#  mount the dataset\n",
        "expected_path = '/content/4D_hands/Assembly/data'\n",
        "\n",
        "if not os.path.exists(expected_path):\n",
        "    os.symlink(data_path, expected_path)\n",
        "    print(f'Symlink created: {expected_path} -> {data_path}')\n",
        "else:\n",
        "    print(f'Symlink or folder already exists: {expected_path}')"
      ],
      "metadata": {
        "id": "MJTc8O77DxJJ"
      },
      "execution_count": null,
      "outputs": []
    },
    {
      "cell_type": "markdown",
      "source": [
        "## Run the models"
      ],
      "metadata": {
        "id": "bJJLBHA1tXky"
      }
    },
    {
      "cell_type": "code",
      "source": [
        "#  set working directory\n",
        "%cd /content/4D_hands/Assembly/spatiotemporal"
      ],
      "metadata": {
        "colab": {
          "base_uri": "https://localhost:8080/"
        },
        "id": "ehBXSr16UFxy",
        "outputId": "9df82347-e043-483a-ee61-746766cabd44"
      },
      "execution_count": null,
      "outputs": [
        {
          "output_type": "stream",
          "name": "stdout",
          "text": [
            "/content/4D_hands/Assembly/spatiotemporal\n"
          ]
        }
      ]
    },
    {
      "cell_type": "code",
      "source": [
        "# run the models\n",
        "!python /content/4D_hands/Assembly/spatiotemporal/test_prediction.py \\\n",
        "    --dataset Assembly \\\n",
        "    --action rotate \\\n",
        "    --models gmn EGNN \\\n",
        "    --batch_size 5 \\\n",
        "    --time 100 \\\n",
        "    --window 90"
      ],
      "metadata": {
        "id": "MQ_N9zaCtY2O"
      },
      "execution_count": null,
      "outputs": []
    },
    {
      "cell_type": "markdown",
      "source": [
        "## Run original EqMotion model"
      ],
      "metadata": {
        "id": "u6MS0Drf54kx"
      }
    },
    {
      "cell_type": "code",
      "source": [
        "#  set working directory\n",
        "%cd /content/EqMotion"
      ],
      "metadata": {
        "id": "vV7JJwGT6EZl"
      },
      "execution_count": null,
      "outputs": []
    },
    {
      "cell_type": "code",
      "source": [
        "# run the model\n",
        "!python /content/EqMotion/main_nbody.py"
      ],
      "metadata": {
        "id": "8Gzjvn8v58cU"
      },
      "execution_count": null,
      "outputs": []
    }
  ]
}