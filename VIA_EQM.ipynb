{
  "cells": [
    {
      "cell_type": "markdown",
      "metadata": {
        "id": "view-in-github",
        "colab_type": "text"
      },
      "source": [
        "<a href=\"https://colab.research.google.com/github/MatteoOnger/VIA_Project/blob/main/VIA_EQM.ipynb\" target=\"_parent\"><img src=\"https://colab.research.google.com/assets/colab-badge.svg\" alt=\"Open In Colab\"/></a>"
      ]
    },
    {
      "cell_type": "markdown",
      "metadata": {
        "id": "RXZ0JMTRK7uX"
      },
      "source": [
        "# **VIA Project: EqMotion Meets Assembly101 - Equivariant Motion Modeling for Manipulation Tasks**\n",
        "\n",
        "*   **Author:** Matteo Onger\n",
        "*   **Date:** September 2025"
      ]
    },
    {
      "cell_type": "markdown",
      "metadata": {
        "id": "OBmiEbHo7PMf"
      },
      "source": [
        "**Documentation**:\n",
        "*   Dataset: [Assembly101](https://assembly-101.github.io/)\n",
        "*   Model: [EqMotion](https://github.com/MediaBrain-SJTU/EqMotion)\n",
        "*   Training Framework: [4DHands](https://github.com/FrancescoAgnelli3/4D_hands)\n",
        "\n",
        "**Notes**:\n",
        "*   For faster execution, please use a GPU-equipped runtime."
      ]
    },
    {
      "cell_type": "markdown",
      "metadata": {
        "id": "oUEiLBNLs-Yt"
      },
      "source": [
        "## Clone the GitHub repositories"
      ]
    },
    {
      "cell_type": "code",
      "execution_count": 1,
      "metadata": {
        "colab": {
          "base_uri": "https://localhost:8080/"
        },
        "id": "urAEctWrAltc",
        "outputId": "df0254de-6059-4428-a3bc-d7aa487a1ef3"
      },
      "outputs": [
        {
          "output_type": "stream",
          "name": "stdout",
          "text": [
            "2.8.0+cu126\n"
          ]
        }
      ],
      "source": [
        "# Check PyTorch and CUDA version\n",
        "import torch\n",
        "print(torch.__version__)"
      ]
    },
    {
      "cell_type": "code",
      "execution_count": null,
      "metadata": {
        "id": "KNo-JNk4s-O_"
      },
      "outputs": [],
      "source": [
        "# Install dependencies\n",
        "!pip install torchcde\n",
        "!pip install torch-dct\n",
        "!pip install torch-geometric\n",
        "\n",
        "!pip install torch-scatter -f https://data.pyg.org/whl/torch-2.8.0+cu126.html       # Set PyTorch and CUDA version\n",
        "!pip install torch-sparse -f https://data.pyg.org/whl/torch-2.8.0+cu126.html        # Set PyTorch and CUDA version\n",
        "\n",
        "!pip install git+https://github.com/TorchSpatiotemporal/tsl.git"
      ]
    },
    {
      "cell_type": "code",
      "execution_count": 1,
      "metadata": {
        "colab": {
          "base_uri": "https://localhost:8080/"
        },
        "id": "aCbadYBu8pUE",
        "outputId": "ee3e9837-227a-489b-d43f-c6a67b3e19d9"
      },
      "outputs": [
        {
          "output_type": "stream",
          "name": "stdout",
          "text": [
            "Cloning into '4D_hands'...\n",
            "remote: Enumerating objects: 1012, done.\u001b[K\n",
            "remote: Counting objects: 100% (13/13), done.\u001b[K\n",
            "remote: Compressing objects: 100% (10/10), done.\u001b[K\n",
            "remote: Total 1012 (delta 3), reused 3 (delta 3), pack-reused 999 (from 2)\u001b[K\n",
            "Receiving objects: 100% (1012/1012), 45.90 MiB | 33.64 MiB/s, done.\n",
            "Resolving deltas: 100% (408/408), done.\n"
          ]
        }
      ],
      "source": [
        "# Clone training framework\n",
        "!git clone https://github.com/FrancescoAgnelli3/4D_hands -b feat-eqmotion"
      ]
    },
    {
      "cell_type": "code",
      "execution_count": 2,
      "metadata": {
        "colab": {
          "base_uri": "https://localhost:8080/"
        },
        "id": "RLGdM06Z5pO3",
        "outputId": "6d15cfc3-3b2b-48f3-e6ea-fe9ffd20029c"
      },
      "outputs": [
        {
          "output_type": "stream",
          "name": "stdout",
          "text": [
            "Cloning into 'EqMotion'...\n",
            "remote: Enumerating objects: 210, done.\u001b[K\n",
            "remote: Counting objects: 100% (82/82), done.\u001b[K\n",
            "remote: Compressing objects: 100% (73/73), done.\u001b[K\n",
            "remote: Total 210 (delta 46), reused 27 (delta 9), pack-reused 128 (from 1)\u001b[K\n",
            "Receiving objects: 100% (210/210), 530.02 MiB | 54.48 MiB/s, done.\n",
            "Resolving deltas: 100% (98/98), done.\n",
            "Updating files: 100% (162/162), done.\n"
          ]
        }
      ],
      "source": [
        "# Clone original EqMotion repository\n",
        "!git clone https://github.com/MediaBrain-SJTU/EqMotion.git"
      ]
    },
    {
      "cell_type": "markdown",
      "metadata": {
        "id": "1XaJHIqHqx3I"
      },
      "source": [
        "## Load the dataset"
      ]
    },
    {
      "cell_type": "markdown",
      "metadata": {
        "id": "waaVEmK0q1Xp"
      },
      "source": [
        "### From SFTP server"
      ]
    },
    {
      "cell_type": "code",
      "execution_count": null,
      "metadata": {
        "id": "_pa3ERj3TFzw"
      },
      "outputs": [],
      "source": [
        "from google.colab import userdata"
      ]
    },
    {
      "cell_type": "code",
      "execution_count": null,
      "metadata": {
        "id": "t_KWef6aTiOS"
      },
      "outputs": [],
      "source": [
        "# Set the credentials and paths\n",
        "local_path = '/content'\n",
        "data_folder = 'data_our'\n",
        "remote_path = '/datasets/AssemblyHands/assembly101-download-scripts/data_our'\n",
        "\n",
        "host = userdata.get('phuse_server')     # Server domain must be SET in SECRETS\n",
        "user = userdata.get('phuse_user')       # Server user must be SET in SECRETS\n",
        "psw = userdata.get('phuse_psw')         # User password must be SET in SECRETS\n",
        "\n",
        "user_at_host = user + '@' + host\n",
        "data_path = local_path + '/' + data_folder"
      ]
    },
    {
      "cell_type": "code",
      "execution_count": null,
      "metadata": {
        "id": "jQiF7Q3dVJ_2"
      },
      "outputs": [],
      "source": [
        "# Install sshpass\n",
        "!sudo apt update\n",
        "!sudo apt install sshpass\n",
        "\n",
        "# Create directories\n",
        "!mkdir -p $remote_path\n",
        "!mkdir -p ~/.ssh\n",
        "\n",
        "# Add server to known hosts\n",
        "!ssh-keyscan $host >> ~/.ssh/known_hosts\n",
        "\n",
        "# Download the data\n",
        "!sshpass -p $psw sftp -oBatchMode=no -b - $user_at_host <<< \"get -r {remote_path} {local_path}\""
      ]
    },
    {
      "cell_type": "markdown",
      "metadata": {
        "id": "uHkCj88Rq41f"
      },
      "source": [
        "### From drive"
      ]
    },
    {
      "cell_type": "code",
      "execution_count": 3,
      "metadata": {
        "id": "1NCe2s8Or_aH"
      },
      "outputs": [],
      "source": [
        "from google.colab import drive"
      ]
    },
    {
      "cell_type": "code",
      "execution_count": 4,
      "metadata": {
        "colab": {
          "base_uri": "https://localhost:8080/"
        },
        "id": "Gmy1wyl_qBuX",
        "outputId": "f0981083-0838-4934-8fad-fa122cc11bdc"
      },
      "outputs": [
        {
          "output_type": "stream",
          "name": "stdout",
          "text": [
            "Mounted at /content/drive\n"
          ]
        }
      ],
      "source": [
        "# Mount Google Drive\n",
        "drive.mount('/content/drive')\n",
        "\n",
        "# Set the paths\n",
        "data_path = '/content/drive/MyDrive/Colab Notebooks/UNIMI/VIA Project/data_our'"
      ]
    },
    {
      "cell_type": "markdown",
      "metadata": {
        "id": "qAOSC2vADsjt"
      },
      "source": [
        "### Mount the dataset"
      ]
    },
    {
      "cell_type": "code",
      "execution_count": 5,
      "metadata": {
        "id": "DguYs0xaD8zh"
      },
      "outputs": [],
      "source": [
        "import os"
      ]
    },
    {
      "cell_type": "code",
      "execution_count": 6,
      "metadata": {
        "colab": {
          "base_uri": "https://localhost:8080/"
        },
        "id": "MJTc8O77DxJJ",
        "outputId": "bbf3d29c-0b0f-479d-f008-1e123a1326b0"
      },
      "outputs": [
        {
          "output_type": "stream",
          "name": "stdout",
          "text": [
            "Symlink created: /content/4D_hands/Assembly/data -> /content/drive/MyDrive/Colab Notebooks/UNIMI/VIA Project/data_our\n"
          ]
        }
      ],
      "source": [
        "# Mount the dataset\n",
        "expected_path = '/content/4D_hands/Assembly/data'\n",
        "\n",
        "if not os.path.exists(expected_path):\n",
        "    os.symlink(data_path, expected_path)\n",
        "    print(f'Symlink created: {expected_path} -> {data_path}')\n",
        "else:\n",
        "    print(f'Symlink or folder already exists: {expected_path}')"
      ]
    },
    {
      "cell_type": "markdown",
      "metadata": {
        "id": "bJJLBHA1tXky"
      },
      "source": [
        "## Run the models"
      ]
    },
    {
      "cell_type": "code",
      "execution_count": 7,
      "metadata": {
        "colab": {
          "base_uri": "https://localhost:8080/"
        },
        "id": "ehBXSr16UFxy",
        "outputId": "18c59591-7107-4f31-ea98-4407de1295e0"
      },
      "outputs": [
        {
          "output_type": "stream",
          "name": "stdout",
          "text": [
            "/content/4D_hands/Assembly/spatiotemporal\n"
          ]
        }
      ],
      "source": [
        "# Set working directory\n",
        "%cd /content/4D_hands/Assembly/spatiotemporal"
      ]
    },
    {
      "cell_type": "code",
      "execution_count": 15,
      "metadata": {
        "colab": {
          "base_uri": "https://localhost:8080/"
        },
        "id": "MQ_N9zaCtY2O",
        "outputId": "eaa03377-18b4-4c66-fa60-c6af0fe4bed8"
      },
      "outputs": [
        {
          "output_type": "stream",
          "name": "stdout",
          "text": [
            "Reshaping all the vectors to  100 time steps\n",
            "Loading files: 100% 262/262 [00:36<00:00,  7.14it/s]\n",
            "{Train dataloader: size=163}\n",
            "{Validation dataloader: size=0}\n",
            "{Test dataloader: size=40}\n",
            "{Predict dataloader: None}\n",
            "========================================\n",
            "Number of model (eqmotion) parameters:      73668\n",
            "========================================\n",
            "Epoch [1/50] Train Loss: 0.401680 | Test Loss: 0.291223 | LR: 0.001000\n",
            "Epoch [2/50] Train Loss: 0.328334 | Test Loss: 0.268260 | LR: 0.001000\n",
            "Epoch [3/50] Train Loss: 0.316568 | Test Loss: 0.260787 | LR: 0.001000\n",
            "Epoch [4/50] Train Loss: 0.310398 | Test Loss: 0.239261 | LR: 0.001000\n",
            "Epoch [5/50] Train Loss: 0.296097 | Test Loss: 0.236181 | LR: 0.001000\n",
            "Epoch [6/50] Train Loss: 0.293760 | Test Loss: 0.231825 | LR: 0.001000\n",
            "Epoch [7/50] Train Loss: 0.282041 | Test Loss: 0.221148 | LR: 0.001000\n",
            "Epoch [8/50] Train Loss: 0.273180 | Test Loss: 0.212319 | LR: 0.001000\n",
            "Epoch [9/50] Train Loss: 0.263050 | Test Loss: 0.208881 | LR: 0.001000\n",
            "Epoch [10/50] Train Loss: 0.262588 | Test Loss: 0.204931 | LR: 0.001000\n",
            "Epoch [11/50] Train Loss: 0.253628 | Test Loss: 0.199106 | LR: 0.001000\n",
            "Epoch [12/50] Train Loss: 0.242862 | Test Loss: 0.198250 | LR: 0.001000\n",
            "Epoch [13/50] Train Loss: 0.239645 | Test Loss: 0.197270 | LR: 0.001000\n",
            "Epoch [14/50] Train Loss: 0.241056 | Test Loss: 0.189836 | LR: 0.001000\n",
            "Epoch [15/50] Train Loss: 0.230098 | Test Loss: 0.184587 | LR: 0.001000\n",
            "Epoch [16/50] Train Loss: 0.223716 | Test Loss: 0.182343 | LR: 0.001000\n",
            "Epoch [17/50] Train Loss: 0.226328 | Test Loss: 0.177998 | LR: 0.001000\n",
            "Epoch [18/50] Train Loss: 0.220623 | Test Loss: 0.176362 | LR: 0.001000\n",
            "Epoch [19/50] Train Loss: 0.214915 | Test Loss: 0.173823 | LR: 0.001000\n",
            "Epoch [20/50] Train Loss: 0.212982 | Test Loss: 0.168714 | LR: 0.001000\n",
            "Epoch [21/50] Train Loss: 0.211682 | Test Loss: 0.165324 | LR: 0.001000\n",
            "Epoch [22/50] Train Loss: 0.208802 | Test Loss: 0.162829 | LR: 0.001000\n",
            "Epoch [23/50] Train Loss: 0.193248 | Test Loss: 0.160810 | LR: 0.001000\n",
            "Epoch [24/50] Train Loss: 0.197748 | Test Loss: 0.160810 | LR: 0.001000\n",
            "Epoch [25/50] Train Loss: 0.196832 | Test Loss: 0.159817 | LR: 0.001000\n",
            "Epoch [26/50] Train Loss: 0.194000 | Test Loss: 0.158606 | LR: 0.001000\n",
            "Epoch [27/50] Train Loss: 0.199354 | Test Loss: 0.157228 | LR: 0.000500\n",
            "Epoch [28/50] Train Loss: 0.189783 | Test Loss: 0.156382 | LR: 0.000500\n",
            "Epoch [29/50] Train Loss: 0.193427 | Test Loss: 0.155338 | LR: 0.000500\n",
            "Epoch [30/50] Train Loss: 0.188015 | Test Loss: 0.154110 | LR: 0.000500\n",
            "Epoch [31/50] Train Loss: 0.185011 | Test Loss: 0.152898 | LR: 0.000500\n",
            "Epoch [32/50] Train Loss: 0.186507 | Test Loss: 0.151832 | LR: 0.000500\n",
            "Epoch [33/50] Train Loss: 0.192397 | Test Loss: 0.150998 | LR: 0.000500\n",
            "Epoch [34/50] Train Loss: 0.189035 | Test Loss: 0.150410 | LR: 0.000500\n",
            "Epoch [35/50] Train Loss: 0.170499 | Test Loss: 0.149858 | LR: 0.000500\n",
            "Epoch [36/50] Train Loss: 0.188208 | Test Loss: 0.149630 | LR: 0.000500\n",
            "Epoch [37/50] Train Loss: 0.172634 | Test Loss: 0.149410 | LR: 0.000500\n",
            "Epoch [38/50] Train Loss: 0.178986 | Test Loss: 0.149204 | LR: 0.000500\n",
            "Epoch [39/50] Train Loss: 0.180356 | Test Loss: 0.148921 | LR: 0.000250\n",
            "Epoch [40/50] Train Loss: 0.183565 | Test Loss: 0.148851 | LR: 0.000250\n",
            "Epoch [41/50] Train Loss: 0.179366 | Test Loss: 0.148742 | LR: 0.000250\n",
            "Epoch [42/50] Train Loss: 0.173047 | Test Loss: 0.148561 | LR: 0.000250\n",
            "Epoch [43/50] Train Loss: 0.177405 | Test Loss: 0.148321 | LR: 0.000125\n",
            "Epoch [44/50] Train Loss: 0.174222 | Test Loss: 0.148181 | LR: 0.000125\n",
            "Epoch [45/50] Train Loss: 0.178338 | Test Loss: 0.147975 | LR: 0.000125\n",
            "Epoch [46/50] Train Loss: 0.172801 | Test Loss: 0.147719 | LR: 0.000125\n",
            "Epoch [47/50] Train Loss: 0.177416 | Test Loss: 0.147474 | LR: 0.000063\n",
            "Epoch [48/50] Train Loss: 0.184701 | Test Loss: 0.147373 | LR: 0.000063\n",
            "Epoch [49/50] Train Loss: 0.179203 | Test Loss: 0.147284 | LR: 0.000063\n",
            "Epoch [50/50] Train Loss: 0.181763 | Test Loss: 0.147194 | LR: 0.000063\n"
          ]
        }
      ],
      "source": [
        "# Run the models\n",
        "!python /content/4D_hands/Assembly/spatiotemporal/test_prediction.py \\\n",
        "    --dataset Assembly \\\n",
        "    --models eqmotion \\\n",
        "    --action rotate \\\n",
        "    --batch_size 128  \\\n",
        "    --time 100 \\\n",
        "    --window 90"
      ]
    },
    {
      "cell_type": "markdown",
      "metadata": {
        "id": "u6MS0Drf54kx"
      },
      "source": [
        "## Run original EqMotion model"
      ]
    },
    {
      "cell_type": "code",
      "execution_count": 16,
      "metadata": {
        "id": "vV7JJwGT6EZl",
        "colab": {
          "base_uri": "https://localhost:8080/"
        },
        "outputId": "8ea7a839-6aff-4cd1-9ad5-aa5a770a3d3d"
      },
      "outputs": [
        {
          "output_type": "stream",
          "name": "stdout",
          "text": [
            "/content/EqMotion\n"
          ]
        }
      ],
      "source": [
        "#  set working directory\n",
        "%cd /content/EqMotion"
      ]
    },
    {
      "cell_type": "code",
      "execution_count": 19,
      "metadata": {
        "id": "8Gzjvn8v58cU",
        "colab": {
          "base_uri": "https://localhost:8080/"
        },
        "outputId": "6e310c20-73b2-4129-96a6-b1870a383a92"
      },
      "outputs": [
        {
          "output_type": "stream",
          "name": "stdout",
          "text": [
            "Namespace(exp_name='exp_1', batch_size=100, epochs=10, past_length=20, future_length=20, no_cuda=False, seed=-1, test_interval=5, outf='n_body_system/logs', lr=0.0005, nf=64, n_layers=4, max_training_samples=5000, dataset='nbody', weight_decay=1e-12, norm_diff=False, tanh=False, vis=False, apply_decay=False, cuda=True)\n",
            "The seed is : 691\n",
            "train epoch 0 avg loss: 2.34225\n",
            "==> val epoch 0 avg loss: 1.35803 ade: 0.80328\n",
            "==> test epoch 0 avg loss: 1.33868 ade: 0.80272\n",
            "*** Best Val Loss: 1.35803 \t Best Test Loss: 1.33868 \t Best ade: 0.80272 \t Best epoch 0\n",
            "train epoch 1 avg loss: 0.64751\n",
            "train epoch 2 avg loss: 0.55971\n",
            "train epoch 3 avg loss: 0.52482\n",
            "train epoch 4 avg loss: 0.43304\n",
            "train epoch 5 avg loss: 0.37496\n",
            "==> val epoch 5 avg loss: 0.63357 ade: 0.33901\n",
            "==> test epoch 5 avg loss: 0.62748 ade: 0.33815\n",
            "*** Best Val Loss: 0.63357 \t Best Test Loss: 0.62748 \t Best ade: 0.33815 \t Best epoch 5\n",
            "train epoch 6 avg loss: 0.32453\n",
            "train epoch 7 avg loss: 0.31635\n",
            "train epoch 8 avg loss: 0.30047\n",
            "train epoch 9 avg loss: 0.29705\n"
          ]
        }
      ],
      "source": [
        "# Run the model\n",
        "!python /content/EqMotion/main_nbody.py --epochs 10"
      ]
    }
  ],
  "metadata": {
    "accelerator": "GPU",
    "colab": {
      "collapsed_sections": [
        "waaVEmK0q1Xp"
      ],
      "gpuType": "A100",
      "machine_shape": "hm",
      "provenance": [],
      "authorship_tag": "ABX9TyOB1aC58l0xcIfpgCvvBPTm",
      "include_colab_link": true
    },
    "kernelspec": {
      "display_name": "Python 3",
      "name": "python3"
    },
    "language_info": {
      "name": "python"
    }
  },
  "nbformat": 4,
  "nbformat_minor": 0
}