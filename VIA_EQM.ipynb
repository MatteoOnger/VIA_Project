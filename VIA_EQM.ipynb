{
  "nbformat": 4,
  "nbformat_minor": 0,
  "metadata": {
    "colab": {
      "provenance": [],
      "machine_shape": "hm",
      "gpuType": "A100",
      "authorship_tag": "ABX9TyMvCMFsM+Px2RoBrqNYaTqX",
      "include_colab_link": true
    },
    "kernelspec": {
      "name": "python3",
      "display_name": "Python 3"
    },
    "language_info": {
      "name": "python"
    },
    "accelerator": "GPU"
  },
  "cells": [
    {
      "cell_type": "markdown",
      "metadata": {
        "id": "view-in-github",
        "colab_type": "text"
      },
      "source": [
        "<a href=\"https://colab.research.google.com/github/MatteoOnger/VIA_Project/blob/main/VIA_EQM.ipynb\" target=\"_parent\"><img src=\"https://colab.research.google.com/assets/colab-badge.svg\" alt=\"Open In Colab\"/></a>"
      ]
    },
    {
      "cell_type": "markdown",
      "source": [
        "# **VIA Project: EqMotion Meets Assembly101 - Equivariant Motion Modeling for Manipulation Tasks**\n",
        "\n",
        "*   **Author:** Matteo Onger\n",
        "*   **Date:** September 2025"
      ],
      "metadata": {
        "id": "RXZ0JMTRK7uX"
      }
    },
    {
      "cell_type": "markdown",
      "source": [
        "**Documentation**:\n",
        "*   Dataset: [Assembly101](https://assembly-101.github.io/)\n",
        "*   Model: [EqMotion](https://github.com/MediaBrain-SJTU/EqMotion)\n",
        "*   Training Framework: [4DHands](https://github.com/FrancescoAgnelli3/4D_hands)\n",
        "\n",
        "**Notes**:\n",
        "*   For faster execution, please use a GPU-equipped runtime."
      ],
      "metadata": {
        "id": "OBmiEbHo7PMf"
      }
    },
    {
      "cell_type": "markdown",
      "source": [
        "## Clone the GitHub repository"
      ],
      "metadata": {
        "id": "oUEiLBNLs-Yt"
      }
    },
    {
      "cell_type": "code",
      "source": [
        "# check PyTorch and CUDA version\n",
        "import torch\n",
        "print(torch.__version__)"
      ],
      "metadata": {
        "id": "urAEctWrAltc"
      },
      "execution_count": null,
      "outputs": []
    },
    {
      "cell_type": "code",
      "source": [
        "# install dependencies\n",
        "!pip install torchcde\n",
        "!pip install torch-dct\n",
        "!pip install torch-geometric\n",
        "\n",
        "!pip install torch-scatter -f https://data.pyg.org/whl/torch-2.6.0+cu124.html       # set PyTorch and CUDA version\n",
        "!pip install torch-sparse -f https://data.pyg.org/whl/torch-2.6.0+cu124.html        # set PyTorch and CUDA version\n",
        "\n",
        "!pip install git+https://github.com/TorchSpatiotemporal/tsl.git"
      ],
      "metadata": {
        "id": "KNo-JNk4s-O_"
      },
      "execution_count": null,
      "outputs": []
    },
    {
      "cell_type": "code",
      "source": [
        "# clone training framework\n",
        "!git clone https://github.com/FrancescoAgnelli3/4D_hands"
      ],
      "metadata": {
        "colab": {
          "base_uri": "https://localhost:8080/"
        },
        "id": "aCbadYBu8pUE",
        "outputId": "ce2b3360-d2b7-4fe0-88bc-1aa35b8fd031"
      },
      "execution_count": 1,
      "outputs": [
        {
          "output_type": "stream",
          "name": "stdout",
          "text": [
            "Cloning into '4D_hands'...\n",
            "remote: Enumerating objects: 862, done.\u001b[K\n",
            "remote: Counting objects: 100% (60/60), done.\u001b[K\n",
            "remote: Compressing objects: 100% (49/49), done.\u001b[K\n",
            "remote: Total 862 (delta 19), reused 35 (delta 11), pack-reused 802 (from 1)\u001b[K\n",
            "Receiving objects: 100% (862/862), 43.18 MiB | 36.36 MiB/s, done.\n",
            "Resolving deltas: 100% (337/337), done.\n"
          ]
        }
      ]
    },
    {
      "cell_type": "markdown",
      "source": [
        "## Load the dataset"
      ],
      "metadata": {
        "id": "1XaJHIqHqx3I"
      }
    },
    {
      "cell_type": "markdown",
      "source": [
        "### From SFTP server"
      ],
      "metadata": {
        "id": "waaVEmK0q1Xp"
      }
    },
    {
      "cell_type": "code",
      "source": [
        "from google.colab import userdata"
      ],
      "metadata": {
        "id": "_pa3ERj3TFzw"
      },
      "execution_count": null,
      "outputs": []
    },
    {
      "cell_type": "code",
      "source": [
        "# set the credentials and paths\n",
        "local_path = '/content'\n",
        "data_folder = 'data_our'\n",
        "remote_path = '/datasets/AssemblyHands/assembly101-download-scripts/data_our'\n",
        "\n",
        "host = userdata.get('phuse_server')     # server domain must be SET in SECRETS\n",
        "user = userdata.get('phuse_user')       # server user must be SET in SECRETS\n",
        "psw = userdata.get('phuse_psw')         # user password must be SET in SECRETS\n",
        "\n",
        "user_at_host = user + '@' + host\n",
        "data_path = local_path + '/' + data_folder"
      ],
      "metadata": {
        "id": "t_KWef6aTiOS"
      },
      "execution_count": null,
      "outputs": []
    },
    {
      "cell_type": "code",
      "source": [
        "# install sshpass\n",
        "!sudo apt update\n",
        "!sudo apt install sshpass\n",
        "\n",
        "# create directories\n",
        "!mkdir -p $remote_path\n",
        "!mkdir -p ~/.ssh\n",
        "\n",
        "# add server to known hosts\n",
        "!ssh-keyscan $host >> ~/.ssh/known_hosts\n",
        "\n",
        "# download the data\n",
        "!sshpass -p $psw sftp -oBatchMode=no -b - $user_at_host <<< \"get -r {remote_path} {local_path}\""
      ],
      "metadata": {
        "id": "jQiF7Q3dVJ_2"
      },
      "execution_count": null,
      "outputs": []
    },
    {
      "cell_type": "markdown",
      "source": [
        "### From drive"
      ],
      "metadata": {
        "id": "uHkCj88Rq41f"
      }
    },
    {
      "cell_type": "code",
      "source": [
        "from google.colab import drive"
      ],
      "metadata": {
        "id": "1NCe2s8Or_aH"
      },
      "execution_count": 2,
      "outputs": []
    },
    {
      "cell_type": "code",
      "source": [
        "# mount Google Drive\n",
        "drive.mount('/content/drive')\n",
        "\n",
        "# set the paths\n",
        "data_path = '/content/drive/MyDrive/Colab Notebooks/UNIMI/VIA Project/data_our'"
      ],
      "metadata": {
        "id": "Gmy1wyl_qBuX",
        "colab": {
          "base_uri": "https://localhost:8080/"
        },
        "outputId": "2c062ac0-325e-48b7-e827-4a03cd681f22"
      },
      "execution_count": 3,
      "outputs": [
        {
          "output_type": "stream",
          "name": "stdout",
          "text": [
            "Mounted at /content/drive\n"
          ]
        }
      ]
    },
    {
      "cell_type": "markdown",
      "source": [
        "### Mount the dataset"
      ],
      "metadata": {
        "id": "qAOSC2vADsjt"
      }
    },
    {
      "cell_type": "code",
      "source": [
        "import os"
      ],
      "metadata": {
        "id": "DguYs0xaD8zh"
      },
      "execution_count": 4,
      "outputs": []
    },
    {
      "cell_type": "code",
      "source": [
        "#  mount the dataset\n",
        "expected_path = '/content/4D_hands/Assembly/data'\n",
        "\n",
        "if not os.path.exists(expected_path):\n",
        "    os.symlink(data_path, expected_path)\n",
        "    print(f'Symlink created: {expected_path} -> {data_path}')\n",
        "else:\n",
        "    print(f'Symlink or folder already exists: {expected_path}')"
      ],
      "metadata": {
        "colab": {
          "base_uri": "https://localhost:8080/"
        },
        "id": "MJTc8O77DxJJ",
        "outputId": "5f1e5824-5763-43c0-b466-d69b06f4ecd5"
      },
      "execution_count": 8,
      "outputs": [
        {
          "output_type": "stream",
          "name": "stdout",
          "text": [
            "Symlink created: /content/4D_hands/Assembly/data -> /content/drive/MyDrive/Colab Notebooks/UNIMI/VIA Project/data_our\n"
          ]
        }
      ]
    },
    {
      "cell_type": "markdown",
      "source": [
        "## Run the models"
      ],
      "metadata": {
        "id": "bJJLBHA1tXky"
      }
    },
    {
      "cell_type": "code",
      "source": [
        "#  set working directory\n",
        "%cd /content/4D_hands/Assembly/spatiotemporal"
      ],
      "metadata": {
        "colab": {
          "base_uri": "https://localhost:8080/"
        },
        "id": "ehBXSr16UFxy",
        "outputId": "364c798f-2957-41db-d61c-c54cf519c9b9"
      },
      "execution_count": 9,
      "outputs": [
        {
          "output_type": "stream",
          "name": "stdout",
          "text": [
            "/content/4D_hands/Assembly/spatiotemporal\n"
          ]
        }
      ]
    },
    {
      "cell_type": "code",
      "source": [
        "!python /content/4D_hands/Assembly/spatiotemporal/test_prediction.py \\\n",
        "    --dataset Assembly \\\n",
        "    --action rotate \\\n",
        "    --models gmn EGNN \\\n",
        "    --batch_size 64 \\\n",
        "    --time 100 \\\n",
        "    --window 90"
      ],
      "metadata": {
        "id": "MQ_N9zaCtY2O",
        "colab": {
          "base_uri": "https://localhost:8080/"
        },
        "outputId": "d4d95ac7-708f-497f-ddac-07dce264b5b5"
      },
      "execution_count": 11,
      "outputs": [
        {
          "output_type": "stream",
          "name": "stdout",
          "text": [
            "========================================\n",
            "Number of model (gmn_att) parameters:      41780\n",
            "========================================\n",
            "Epoch [1/50] Train Loss: 0.107990 | Test Loss: 0.050792 | LR: 0.001000\n",
            "Epoch [2/50] Train Loss: 0.095343 | Test Loss: 0.058069 | LR: 0.001000\n",
            "Epoch [3/50] Train Loss: 0.106409 | Test Loss: 0.049135 | LR: 0.001000\n",
            "Epoch [4/50] Train Loss: 0.095280 | Test Loss: 0.053957 | LR: 0.001000\n",
            "Epoch [5/50] Train Loss: 0.099059 | Test Loss: 0.048324 | LR: 0.001000\n",
            "Epoch [6/50] Train Loss: 0.087262 | Test Loss: 0.051922 | LR: 0.001000\n",
            "Epoch [7/50] Train Loss: 0.095468 | Test Loss: 0.047726 | LR: 0.001000\n",
            "Epoch [8/50] Train Loss: 0.089848 | Test Loss: 0.051313 | LR: 0.001000\n",
            "Epoch [9/50] Train Loss: 0.088400 | Test Loss: 0.049314 | LR: 0.001000\n",
            "Epoch [10/50] Train Loss: 0.088022 | Test Loss: 0.047720 | LR: 0.000500\n",
            "Epoch [11/50] Train Loss: 0.091792 | Test Loss: 0.047651 | LR: 0.000500\n",
            "Epoch [12/50] Train Loss: 0.088911 | Test Loss: 0.047028 | LR: 0.000500\n",
            "Epoch [13/50] Train Loss: 0.085841 | Test Loss: 0.048077 | LR: 0.000500\n",
            "Epoch [14/50] Train Loss: 0.090380 | Test Loss: 0.047861 | LR: 0.000500\n",
            "Epoch [15/50] Train Loss: 0.085688 | Test Loss: 0.046594 | LR: 0.000500\n",
            "Epoch [16/50] Train Loss: 0.087322 | Test Loss: 0.045922 | LR: 0.000500\n",
            "Epoch [17/50] Train Loss: 0.086011 | Test Loss: 0.046070 | LR: 0.000500\n",
            "Epoch [18/50] Train Loss: 0.087943 | Test Loss: 0.045615 | LR: 0.000500\n",
            "Epoch [19/50] Train Loss: 0.082557 | Test Loss: 0.046350 | LR: 0.000500\n",
            "Epoch [20/50] Train Loss: 0.081859 | Test Loss: 0.046638 | LR: 0.000500\n",
            "Epoch [21/50] Train Loss: 0.081387 | Test Loss: 0.045836 | LR: 0.000500\n",
            "Epoch [22/50] Train Loss: 0.083249 | Test Loss: 0.045438 | LR: 0.000500\n",
            "Epoch [23/50] Train Loss: 0.083824 | Test Loss: 0.045546 | LR: 0.000500\n",
            "Epoch [24/50] Train Loss: 0.085243 | Test Loss: 0.045879 | LR: 0.000500\n",
            "Epoch [25/50] Train Loss: 0.078831 | Test Loss: 0.046182 | LR: 0.000500\n",
            "Epoch [26/50] Train Loss: 0.085645 | Test Loss: 0.046104 | LR: 0.000500\n",
            "Epoch [27/50] Train Loss: 0.081500 | Test Loss: 0.046079 | LR: 0.000500\n",
            "Epoch [28/50] Train Loss: 0.081870 | Test Loss: 0.045985 | LR: 0.000500\n",
            "Epoch [29/50] Train Loss: 0.082274 | Test Loss: 0.046043 | LR: 0.000250\n",
            "Epoch [30/50] Train Loss: 0.080655 | Test Loss: 0.045809 | LR: 0.000250\n",
            "Epoch [31/50] Train Loss: 0.081000 | Test Loss: 0.045526 | LR: 0.000250\n",
            "Epoch [32/50] Train Loss: 0.081780 | Test Loss: 0.045252 | LR: 0.000250\n",
            "Epoch [33/50] Train Loss: 0.081203 | Test Loss: 0.045065 | LR: 0.000125\n",
            "Epoch [34/50] Train Loss: 0.083846 | Test Loss: 0.044974 | LR: 0.000125\n",
            "Epoch [35/50] Train Loss: 0.081628 | Test Loss: 0.044867 | LR: 0.000125\n",
            "Epoch [36/50] Train Loss: 0.083801 | Test Loss: 0.044762 | LR: 0.000125\n",
            "Epoch [37/50] Train Loss: 0.081440 | Test Loss: 0.044700 | LR: 0.000063\n",
            "Epoch [38/50] Train Loss: 0.083299 | Test Loss: 0.044682 | LR: 0.000063\n",
            "Epoch [39/50] Train Loss: 0.081984 | Test Loss: 0.044682 | LR: 0.000063\n",
            "Epoch [40/50] Train Loss: 0.080965 | Test Loss: 0.044658 | LR: 0.000063\n",
            "Epoch [41/50] Train Loss: 0.081447 | Test Loss: 0.044641 | LR: 0.000031\n",
            "Epoch [42/50] Train Loss: 0.081716 | Test Loss: 0.044635 | LR: 0.000031\n",
            "Epoch [43/50] Train Loss: 0.080829 | Test Loss: 0.044615 | LR: 0.000031\n",
            "Epoch [44/50] Train Loss: 0.083206 | Test Loss: 0.044596 | LR: 0.000031\n",
            "Epoch [45/50] Train Loss: 0.082797 | Test Loss: 0.044574 | LR: 0.000016\n",
            "Epoch [46/50] Train Loss: 0.086157 | Test Loss: 0.044569 | LR: 0.000016\n",
            "Epoch [47/50] Train Loss: 0.080249 | Test Loss: 0.044563 | LR: 0.000016\n",
            "Epoch [48/50] Train Loss: 0.079288 | Test Loss: 0.044559 | LR: 0.000016\n",
            "Epoch [49/50] Train Loss: 0.082087 | Test Loss: 0.044556 | LR: 0.000008\n",
            "Epoch [50/50] Train Loss: 0.082877 | Test Loss: 0.044555 | LR: 0.000008\n",
            "========================================\n",
            "Number of model (gmn_lstm) parameters:      32858\n",
            "========================================\n",
            "Epoch [1/50] Train Loss: 0.949147 | Test Loss: 0.373576 | LR: 0.001000\n",
            "Epoch [2/50] Train Loss: 0.500548 | Test Loss: 0.238513 | LR: 0.001000\n",
            "Epoch [3/50] Train Loss: 0.346788 | Test Loss: 0.183830 | LR: 0.001000\n",
            "Epoch [4/50] Train Loss: 0.291700 | Test Loss: 0.158929 | LR: 0.001000\n",
            "Epoch [5/50] Train Loss: 0.261859 | Test Loss: 0.145500 | LR: 0.001000\n",
            "Epoch [6/50] Train Loss: 0.249451 | Test Loss: 0.137317 | LR: 0.001000\n",
            "Epoch [7/50] Train Loss: 0.253243 | Test Loss: 0.132027 | LR: 0.001000\n",
            "Epoch [8/50] Train Loss: 0.242164 | Test Loss: 0.128298 | LR: 0.001000\n",
            "Epoch [9/50] Train Loss: 0.236948 | Test Loss: 0.125464 | LR: 0.001000\n",
            "Epoch [10/50] Train Loss: 0.235252 | Test Loss: 0.123168 | LR: 0.001000\n",
            "Epoch [11/50] Train Loss: 0.230734 | Test Loss: 0.121240 | LR: 0.001000\n",
            "Epoch [12/50] Train Loss: 0.232690 | Test Loss: 0.119654 | LR: 0.001000\n",
            "Epoch [13/50] Train Loss: 0.231790 | Test Loss: 0.118386 | LR: 0.001000\n",
            "Epoch [14/50] Train Loss: 0.224598 | Test Loss: 0.117055 | LR: 0.001000\n",
            "Epoch [15/50] Train Loss: 0.227796 | Test Loss: 0.115624 | LR: 0.001000\n",
            "Epoch [16/50] Train Loss: 0.225040 | Test Loss: 0.114007 | LR: 0.001000\n",
            "Epoch [17/50] Train Loss: 0.222416 | Test Loss: 0.112504 | LR: 0.001000\n",
            "Epoch [18/50] Train Loss: 0.229741 | Test Loss: 0.111015 | LR: 0.001000\n",
            "Epoch [19/50] Train Loss: 0.217342 | Test Loss: 0.109629 | LR: 0.001000\n",
            "Epoch [20/50] Train Loss: 0.218670 | Test Loss: 0.108319 | LR: 0.001000\n",
            "Epoch [21/50] Train Loss: 0.217590 | Test Loss: 0.107220 | LR: 0.001000\n",
            "Epoch [22/50] Train Loss: 0.206344 | Test Loss: 0.105872 | LR: 0.001000\n",
            "Epoch [23/50] Train Loss: 0.210660 | Test Loss: 0.104206 | LR: 0.001000\n",
            "Epoch [24/50] Train Loss: 0.205108 | Test Loss: 0.102712 | LR: 0.001000\n",
            "Epoch [25/50] Train Loss: 0.203520 | Test Loss: 0.101272 | LR: 0.001000\n",
            "Epoch [26/50] Train Loss: 0.194216 | Test Loss: 0.099985 | LR: 0.001000\n",
            "Epoch [27/50] Train Loss: 0.200002 | Test Loss: 0.098607 | LR: 0.001000\n",
            "Epoch [28/50] Train Loss: 0.191031 | Test Loss: 0.097003 | LR: 0.001000\n",
            "Epoch [29/50] Train Loss: 0.194203 | Test Loss: 0.095466 | LR: 0.001000\n",
            "Epoch [30/50] Train Loss: 0.186277 | Test Loss: 0.094131 | LR: 0.001000\n",
            "Epoch [31/50] Train Loss: 0.184530 | Test Loss: 0.092872 | LR: 0.001000\n",
            "Epoch [32/50] Train Loss: 0.187537 | Test Loss: 0.091741 | LR: 0.001000\n",
            "Epoch [33/50] Train Loss: 0.178724 | Test Loss: 0.090671 | LR: 0.001000\n",
            "Epoch [34/50] Train Loss: 0.177592 | Test Loss: 0.089787 | LR: 0.001000\n",
            "Epoch [35/50] Train Loss: 0.183732 | Test Loss: 0.088948 | LR: 0.001000\n",
            "Epoch [36/50] Train Loss: 0.173535 | Test Loss: 0.088243 | LR: 0.001000\n",
            "Epoch [37/50] Train Loss: 0.162924 | Test Loss: 0.087599 | LR: 0.001000\n",
            "Epoch [38/50] Train Loss: 0.174692 | Test Loss: 0.087022 | LR: 0.001000\n",
            "Epoch [39/50] Train Loss: 0.166866 | Test Loss: 0.086533 | LR: 0.001000\n",
            "Epoch [40/50] Train Loss: 0.171108 | Test Loss: 0.085869 | LR: 0.001000\n",
            "Epoch [41/50] Train Loss: 0.167594 | Test Loss: 0.085299 | LR: 0.000500\n",
            "Epoch [42/50] Train Loss: 0.169127 | Test Loss: 0.084836 | LR: 0.000500\n",
            "Epoch [43/50] Train Loss: 0.165361 | Test Loss: 0.084269 | LR: 0.000500\n",
            "Epoch [44/50] Train Loss: 0.160477 | Test Loss: 0.083756 | LR: 0.000500\n",
            "Epoch [45/50] Train Loss: 0.166373 | Test Loss: 0.083292 | LR: 0.000500\n",
            "Epoch [46/50] Train Loss: 0.162570 | Test Loss: 0.082836 | LR: 0.000500\n",
            "Epoch [47/50] Train Loss: 0.163385 | Test Loss: 0.082421 | LR: 0.000500\n",
            "Epoch [48/50] Train Loss: 0.159239 | Test Loss: 0.082055 | LR: 0.000500\n",
            "Epoch [49/50] Train Loss: 0.166349 | Test Loss: 0.081665 | LR: 0.000500\n",
            "Epoch [50/50] Train Loss: 0.164431 | Test Loss: 0.081271 | LR: 0.000500\n",
            "========================================\n",
            "Number of model (gmn) parameters:      27272\n",
            "========================================\n",
            "Epoch [1/50] Train Loss: 0.344759 | Test Loss: 0.160987 | LR: 0.001000\n",
            "Epoch [2/50] Train Loss: 0.290997 | Test Loss: 0.146269 | LR: 0.001000\n",
            "Epoch [3/50] Train Loss: 0.275355 | Test Loss: 0.139288 | LR: 0.001000\n",
            "Epoch [4/50] Train Loss: 0.276343 | Test Loss: 0.135511 | LR: 0.001000\n",
            "Epoch [5/50] Train Loss: 0.261605 | Test Loss: 0.133048 | LR: 0.001000\n",
            "Epoch [6/50] Train Loss: 0.254284 | Test Loss: 0.131145 | LR: 0.001000\n",
            "Epoch [7/50] Train Loss: 0.258029 | Test Loss: 0.129496 | LR: 0.001000\n",
            "Epoch [8/50] Train Loss: 0.256935 | Test Loss: 0.127899 | LR: 0.001000\n",
            "Epoch [9/50] Train Loss: 0.250883 | Test Loss: 0.126240 | LR: 0.001000\n",
            "Epoch [10/50] Train Loss: 0.244647 | Test Loss: 0.124530 | LR: 0.001000\n",
            "Epoch [11/50] Train Loss: 0.236129 | Test Loss: 0.122827 | LR: 0.001000\n",
            "Epoch [12/50] Train Loss: 0.240932 | Test Loss: 0.121102 | LR: 0.001000\n",
            "Epoch [13/50] Train Loss: 0.242790 | Test Loss: 0.119234 | LR: 0.001000\n",
            "Epoch [14/50] Train Loss: 0.239375 | Test Loss: 0.117125 | LR: 0.001000\n",
            "Epoch [15/50] Train Loss: 0.227888 | Test Loss: 0.114831 | LR: 0.001000\n",
            "Epoch [16/50] Train Loss: 0.225795 | Test Loss: 0.112500 | LR: 0.001000\n",
            "Epoch [17/50] Train Loss: 0.217268 | Test Loss: 0.110267 | LR: 0.001000\n",
            "Epoch [18/50] Train Loss: 0.211214 | Test Loss: 0.108082 | LR: 0.001000\n",
            "Epoch [19/50] Train Loss: 0.203353 | Test Loss: 0.105957 | LR: 0.001000\n",
            "Epoch [20/50] Train Loss: 0.205671 | Test Loss: 0.104042 | LR: 0.001000\n",
            "Epoch [21/50] Train Loss: 0.201984 | Test Loss: 0.102592 | LR: 0.001000\n",
            "Epoch [22/50] Train Loss: 0.194962 | Test Loss: 0.101364 | LR: 0.001000\n",
            "Epoch [23/50] Train Loss: 0.198004 | Test Loss: 0.099746 | LR: 0.001000\n",
            "Epoch [24/50] Train Loss: 0.190563 | Test Loss: 0.097431 | LR: 0.001000\n",
            "Epoch [25/50] Train Loss: 0.189356 | Test Loss: 0.094743 | LR: 0.001000\n",
            "Epoch [26/50] Train Loss: 0.179905 | Test Loss: 0.092111 | LR: 0.001000\n",
            "Epoch [27/50] Train Loss: 0.170561 | Test Loss: 0.089810 | LR: 0.001000\n",
            "Epoch [28/50] Train Loss: 0.179625 | Test Loss: 0.087577 | LR: 0.001000\n",
            "Epoch [29/50] Train Loss: 0.167771 | Test Loss: 0.085576 | LR: 0.001000\n",
            "Epoch [30/50] Train Loss: 0.168532 | Test Loss: 0.083983 | LR: 0.001000\n",
            "Epoch [31/50] Train Loss: 0.154508 | Test Loss: 0.082695 | LR: 0.001000\n",
            "Epoch [32/50] Train Loss: 0.155087 | Test Loss: 0.080630 | LR: 0.001000\n",
            "Epoch [33/50] Train Loss: 0.150058 | Test Loss: 0.078419 | LR: 0.001000\n",
            "Epoch [34/50] Train Loss: 0.157593 | Test Loss: 0.076437 | LR: 0.001000\n",
            "Epoch [35/50] Train Loss: 0.149987 | Test Loss: 0.075018 | LR: 0.001000\n",
            "Epoch [36/50] Train Loss: 0.148618 | Test Loss: 0.073902 | LR: 0.001000\n",
            "Epoch [37/50] Train Loss: 0.141758 | Test Loss: 0.072908 | LR: 0.001000\n",
            "Epoch [38/50] Train Loss: 0.139735 | Test Loss: 0.071974 | LR: 0.001000\n",
            "Epoch [39/50] Train Loss: 0.139626 | Test Loss: 0.071049 | LR: 0.001000\n",
            "Epoch [40/50] Train Loss: 0.140698 | Test Loss: 0.070292 | LR: 0.001000\n",
            "Epoch [41/50] Train Loss: 0.132923 | Test Loss: 0.069635 | LR: 0.001000\n",
            "Epoch [42/50] Train Loss: 0.133875 | Test Loss: 0.068986 | LR: 0.001000\n",
            "Epoch [43/50] Train Loss: 0.130458 | Test Loss: 0.068372 | LR: 0.001000\n",
            "Epoch [44/50] Train Loss: 0.127414 | Test Loss: 0.067739 | LR: 0.001000\n",
            "Epoch [45/50] Train Loss: 0.127761 | Test Loss: 0.067054 | LR: 0.001000\n",
            "Epoch [46/50] Train Loss: 0.124115 | Test Loss: 0.066305 | LR: 0.001000\n",
            "Epoch [47/50] Train Loss: 0.128892 | Test Loss: 0.065663 | LR: 0.001000\n",
            "Epoch [48/50] Train Loss: 0.127198 | Test Loss: 0.065036 | LR: 0.001000\n",
            "Epoch [49/50] Train Loss: 0.120308 | Test Loss: 0.064356 | LR: 0.001000\n",
            "Epoch [50/50] Train Loss: 0.123356 | Test Loss: 0.063526 | LR: 0.001000\n",
            "========================================\n",
            "Number of model (gmn_lstm_inv) parameters:      32794\n",
            "========================================\n",
            "Epoch [1/50] Train Loss: 0.496811 | Test Loss: 0.249812 | LR: 0.001000\n",
            "Epoch [2/50] Train Loss: 0.380475 | Test Loss: 0.207224 | LR: 0.001000\n",
            "Epoch [3/50] Train Loss: 0.339681 | Test Loss: 0.185428 | LR: 0.001000\n",
            "Epoch [4/50] Train Loss: 0.321201 | Test Loss: 0.172611 | LR: 0.001000\n",
            "Epoch [5/50] Train Loss: 0.302113 | Test Loss: 0.164116 | LR: 0.001000\n",
            "Epoch [6/50] Train Loss: 0.294652 | Test Loss: 0.157924 | LR: 0.001000\n",
            "Epoch [7/50] Train Loss: 0.278942 | Test Loss: 0.153145 | LR: 0.001000\n",
            "Epoch [8/50] Train Loss: 0.266548 | Test Loss: 0.149243 | LR: 0.001000\n",
            "Epoch [9/50] Train Loss: 0.277768 | Test Loss: 0.145919 | LR: 0.001000\n",
            "Epoch [10/50] Train Loss: 0.269657 | Test Loss: 0.143074 | LR: 0.001000\n",
            "Epoch [11/50] Train Loss: 0.265139 | Test Loss: 0.140512 | LR: 0.001000\n",
            "Epoch [12/50] Train Loss: 0.259205 | Test Loss: 0.138115 | LR: 0.001000\n",
            "Epoch [13/50] Train Loss: 0.255692 | Test Loss: 0.135892 | LR: 0.001000\n",
            "Epoch [14/50] Train Loss: 0.255997 | Test Loss: 0.133841 | LR: 0.001000\n",
            "Epoch [15/50] Train Loss: 0.259099 | Test Loss: 0.132175 | LR: 0.001000\n",
            "Epoch [16/50] Train Loss: 0.245921 | Test Loss: 0.130293 | LR: 0.001000\n",
            "Epoch [17/50] Train Loss: 0.248348 | Test Loss: 0.128327 | LR: 0.001000\n",
            "Epoch [18/50] Train Loss: 0.246052 | Test Loss: 0.126512 | LR: 0.001000\n",
            "Epoch [19/50] Train Loss: 0.234953 | Test Loss: 0.124703 | LR: 0.001000\n",
            "Epoch [20/50] Train Loss: 0.246104 | Test Loss: 0.123131 | LR: 0.001000\n",
            "Epoch [21/50] Train Loss: 0.226012 | Test Loss: 0.121619 | LR: 0.001000\n",
            "Epoch [22/50] Train Loss: 0.234678 | Test Loss: 0.120419 | LR: 0.001000\n",
            "Epoch [23/50] Train Loss: 0.227958 | Test Loss: 0.118696 | LR: 0.001000\n",
            "Epoch [24/50] Train Loss: 0.224354 | Test Loss: 0.116640 | LR: 0.001000\n",
            "Epoch [25/50] Train Loss: 0.221441 | Test Loss: 0.115073 | LR: 0.001000\n",
            "Epoch [26/50] Train Loss: 0.224365 | Test Loss: 0.113600 | LR: 0.001000\n",
            "Epoch [27/50] Train Loss: 0.219228 | Test Loss: 0.112282 | LR: 0.001000\n",
            "Epoch [28/50] Train Loss: 0.209804 | Test Loss: 0.110850 | LR: 0.001000\n",
            "Epoch [29/50] Train Loss: 0.208471 | Test Loss: 0.109315 | LR: 0.001000\n",
            "Epoch [30/50] Train Loss: 0.202538 | Test Loss: 0.107723 | LR: 0.001000\n",
            "Epoch [31/50] Train Loss: 0.205582 | Test Loss: 0.106355 | LR: 0.001000\n",
            "Epoch [32/50] Train Loss: 0.194274 | Test Loss: 0.105132 | LR: 0.001000\n",
            "Epoch [33/50] Train Loss: 0.200084 | Test Loss: 0.104065 | LR: 0.001000\n",
            "Epoch [34/50] Train Loss: 0.197907 | Test Loss: 0.103071 | LR: 0.001000\n",
            "Epoch [35/50] Train Loss: 0.192830 | Test Loss: 0.102092 | LR: 0.001000\n",
            "Epoch [36/50] Train Loss: 0.203418 | Test Loss: 0.101113 | LR: 0.001000\n",
            "Epoch [37/50] Train Loss: 0.182949 | Test Loss: 0.099988 | LR: 0.001000\n",
            "Epoch [38/50] Train Loss: 0.192380 | Test Loss: 0.098731 | LR: 0.001000\n",
            "Epoch [39/50] Train Loss: 0.195577 | Test Loss: 0.097203 | LR: 0.001000\n",
            "Epoch [40/50] Train Loss: 0.180678 | Test Loss: 0.095803 | LR: 0.001000\n",
            "Epoch [41/50] Train Loss: 0.178080 | Test Loss: 0.094264 | LR: 0.001000\n",
            "Epoch [42/50] Train Loss: 0.182785 | Test Loss: 0.092721 | LR: 0.001000\n",
            "Epoch [43/50] Train Loss: 0.173409 | Test Loss: 0.091113 | LR: 0.001000\n",
            "Epoch [44/50] Train Loss: 0.171270 | Test Loss: 0.089481 | LR: 0.001000\n",
            "Epoch [45/50] Train Loss: 0.168298 | Test Loss: 0.087883 | LR: 0.001000\n",
            "Epoch [46/50] Train Loss: 0.158652 | Test Loss: 0.086441 | LR: 0.001000\n",
            "Epoch [47/50] Train Loss: 0.166800 | Test Loss: 0.085015 | LR: 0.001000\n",
            "Epoch [48/50] Train Loss: 0.158651 | Test Loss: 0.083467 | LR: 0.001000\n",
            "Epoch [49/50] Train Loss: 0.155691 | Test Loss: 0.081565 | LR: 0.001000\n",
            "Epoch [50/50] Train Loss: 0.152191 | Test Loss: 0.079656 | LR: 0.001000\n"
          ]
        }
      ]
    }
  ]
}